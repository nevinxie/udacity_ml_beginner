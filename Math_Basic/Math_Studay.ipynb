{
 "cells": [
  {
   "cell_type": "code",
   "execution_count": 16,
   "metadata": {},
   "outputs": [],
   "source": [
    "import math\n",
    "\n",
    "class Vector:\n",
    "    def __init__(self, coordinate):\n",
    "        self.coordinate = coordinate\n",
    "    def __str__(self):\n",
    "        return 'Vector:{}'.format(self.coordinate)\n",
    "    def __add__(self, other):\n",
    "        return Vector([x+y for x,y in zip(self.coordinate, other.coordinate)])\n",
    "    def __sub__(self, other):\n",
    "        return Vector([x-y for x,y in zip(self.coordinate, other.coordinate)])\n",
    "    def __mul__(self, value):\n",
    "        return Vector([x*value for x in self.coordinate])\n",
    "    def magnitude(self):\n",
    "        return math.sqrt(sum([x**2 for x in self.coordinate]))\n",
    "    def normalized(self):\n",
    "        magnitude = self.magnitude()\n",
    "        return Vector([x/magnitude for x in self.coordinate])\n",
    "    def dot(self, other):\n",
    "        return sum([x*y for x,y in zip(self.coordinate, other.coordinate)])  \n",
    "    def angle(self, other):\n",
    "        dot_products = self.dot(other)\n",
    "        mag_self = self.magnitude()\n",
    "        mag_other = other.magnitude()\n",
    "        result = math.acos(dot_products/(mag_self*mag_other))\n",
    "        return result   \n",
    "    def angle_degree(self, other):\n",
    "        return math.degrees(self.angle(other))\n",
    "    def is_zero(self, tolerance=1e-10):\n",
    "        return self.magnitude()<tolerance\n",
    "    def is_parallel_to(self, other):\n",
    "        return (self.is_zero() or \n",
    "               other.is_zero() or\n",
    "               self.angle(other) == 0 or\n",
    "               self.angle(other) == math.pi)\n",
    "    def parallel_to(self, basis):\n",
    "        u = basis.normalized()\n",
    "        weight = self.dot(u)\n",
    "        return u*weight\n",
    "    def orthogonal_to(self, basis):\n",
    "        projection = self.parallel_to(basis)\n",
    "        return self-projection\n",
    "    def __iter__(self):\n",
    "        self.count = 0\n",
    "        return self\n",
    "    \n",
    "    def __next__(self):\n",
    "        self.count += 1\n",
    "        if self.count>len(self.coordinate):\n",
    "            raise StopIteration\n",
    "        return self.coordinate[self.count-1]\n",
    "    \n",
    "    def __getitem__(self,index):\n",
    "        return self.coordinate[index]\n",
    "    def __setitem__(self,index,value):\n",
    "        self.coordinate[index] = value\n",
    "    "
   ]
  },
  {
   "cell_type": "code",
   "execution_count": 19,
   "metadata": {
    "collapsed": true
   },
   "outputs": [],
   "source": [
    "from decimal import Decimal, getcontext\n",
    "\n",
    "getcontext().prec = 30\n",
    "\n",
    "\n",
    "class Line(object):\n",
    "\n",
    "    NO_NONZERO_ELTS_FOUND_MSG = 'No nonzero elements found'\n",
    "\n",
    "    def __init__(self, normal_vector=None, constant_term=None):\n",
    "        self.dimension = 2\n",
    "\n",
    "        if not normal_vector:\n",
    "            all_zeros = ['0']*self.dimension\n",
    "            normal_vector = Vector(all_zeros)\n",
    "        self.normal_vector = normal_vector\n",
    "\n",
    "        if not constant_term:\n",
    "            constant_term = Decimal('0')\n",
    "        self.constant_term = Decimal(constant_term)\n",
    "\n",
    "        self.set_basepoint()\n",
    "\n",
    "\n",
    "    def set_basepoint(self):\n",
    "        try:\n",
    "            n = self.normal_vector\n",
    "            c = self.constant_term\n",
    "            basepoint_coords = ['0']*self.dimension\n",
    "\n",
    "            initial_index = Line.first_nonzero_index(n)\n",
    "            initial_coefficient = Decimal(n[initial_index])\n",
    "\n",
    "            basepoint_coords[initial_index] = c/initial_coefficient\n",
    "            self.basepoint = Vector(basepoint_coords)\n",
    "\n",
    "        except Exception as e:\n",
    "            if str(e) == Line.NO_NONZERO_ELTS_FOUND_MSG:\n",
    "                self.basepoint = None\n",
    "            else:\n",
    "                raise e\n",
    "\n",
    "\n",
    "    def __str__(self):\n",
    "\n",
    "        num_decimal_places = 3\n",
    "\n",
    "        def write_coefficient(coefficient, is_initial_term=False):\n",
    "            coefficient = round(coefficient, num_decimal_places)\n",
    "            if coefficient % 1 == 0:\n",
    "                coefficient = int(coefficient)\n",
    "\n",
    "            output = ''\n",
    "\n",
    "            if coefficient < 0:\n",
    "                output += '-'\n",
    "            if coefficient > 0 and not is_initial_term:\n",
    "                output += '+'\n",
    "\n",
    "            if not is_initial_term:\n",
    "                output += ' '\n",
    "\n",
    "            if abs(coefficient) != 1:\n",
    "                output += '{}'.format(abs(coefficient))\n",
    "\n",
    "            return output\n",
    "\n",
    "        n = self.normal_vector\n",
    "\n",
    "        try:\n",
    "            initial_index = Line.first_nonzero_index(n)\n",
    "            terms = [write_coefficient(n[i], is_initial_term=(i==initial_index)) + 'x_{}'.format(i+1)\n",
    "                     for i in range(self.dimension) if round(n[i], num_decimal_places) != 0]\n",
    "            output = ' '.join(terms)\n",
    "\n",
    "        except Exception as e:\n",
    "            if str(e) == self.NO_NONZERO_ELTS_FOUND_MSG:\n",
    "                output = '0'\n",
    "            else:\n",
    "                raise e\n",
    "\n",
    "        constant = round(self.constant_term, num_decimal_places)\n",
    "        if constant % 1 == 0:\n",
    "            constant = int(constant)\n",
    "        output += ' = {}'.format(constant)\n",
    "\n",
    "        return output\n",
    "\n",
    "\n",
    "    @staticmethod\n",
    "    def first_nonzero_index(iterable):\n",
    "        for k, item in enumerate(iterable):\n",
    "            if not MyDecimal(item).is_near_zero():\n",
    "                return k\n",
    "        raise Exception(Line.NO_NONZERO_ELTS_FOUND_MSG)\n",
    "\n",
    "\n",
    "class MyDecimal(Decimal):\n",
    "    def is_near_zero(self, eps=1e-10):\n",
    "        return abs(self) < eps"
   ]
  },
  {
   "cell_type": "code",
   "execution_count": 20,
   "metadata": {},
   "outputs": [
    {
     "name": "stdout",
     "output_type": "stream",
     "text": [
      "4.046x_1 + 2.836x_2 = 1.210\n"
     ]
    }
   ],
   "source": [
    "l1 = Line(Vector([4.046, 2.836]), 1.21)\n",
    "print(l1)"
   ]
  },
  {
   "cell_type": "code",
   "execution_count": 29,
   "metadata": {},
   "outputs": [
    {
     "data": {
      "text/plain": [
       "7.440282924728065"
      ]
     },
     "execution_count": 29,
     "metadata": {},
     "output_type": "execute_result"
    }
   ],
   "source": [
    "v_1 = Vector([-0.221, 7.437])\n",
    "v_1.magnitude()"
   ]
  },
  {
   "cell_type": "code",
   "execution_count": 30,
   "metadata": {},
   "outputs": [
    {
     "data": {
      "text/plain": [
       "10.884187567292289"
      ]
     },
     "execution_count": 30,
     "metadata": {},
     "output_type": "execute_result"
    }
   ],
   "source": [
    "v_2 = Vector([8.813,-1.331,-6.247])\n",
    "v_2.magnitude()"
   ]
  },
  {
   "cell_type": "code",
   "execution_count": 31,
   "metadata": {},
   "outputs": [
    {
     "name": "stdout",
     "output_type": "stream",
     "text": [
      "Vector:[0.9339352140866403, -0.35744232526233]\n"
     ]
    }
   ],
   "source": [
    "v_3 = Vector([5.581, -2.136])\n",
    "print(v_3.normalized())"
   ]
  },
  {
   "cell_type": "code",
   "execution_count": 32,
   "metadata": {},
   "outputs": [
    {
     "name": "stdout",
     "output_type": "stream",
     "text": [
      "Vector:[0.3404012959433014, 0.5300437012984873, -0.7766470449528028]\n"
     ]
    }
   ],
   "source": [
    "v_4 = Vector([1.996, 3.108, -4.554])\n",
    "print(v_4.normalized())"
   ]
  },
  {
   "cell_type": "code",
   "execution_count": 36,
   "metadata": {},
   "outputs": [
    {
     "name": "stdout",
     "output_type": "stream",
     "text": [
      "-41.382286\n"
     ]
    }
   ],
   "source": [
    "v_5 = Vector([7.887,4.138])\n",
    "v_6 = Vector([-8.802,6.776])\n",
    "print(v_5.dot(v_6))"
   ]
  },
  {
   "cell_type": "code",
   "execution_count": 37,
   "metadata": {},
   "outputs": [
    {
     "name": "stdout",
     "output_type": "stream",
     "text": [
      "56.397178000000004\n"
     ]
    }
   ],
   "source": [
    "v_1 = Vector([-5.955, -4.904, -1.874])\n",
    "v_2 = Vector([-4.496, -8.755, 7.103])\n",
    "print(v_1.dot(v_2))"
   ]
  },
  {
   "cell_type": "code",
   "execution_count": 39,
   "metadata": {},
   "outputs": [
    {
     "name": "stdout",
     "output_type": "stream",
     "text": [
      "3.0720263098372476\n"
     ]
    }
   ],
   "source": [
    "v_1 = Vector([3.183, -7.627])\n",
    "v_2 = Vector([-2.668, 5.319])\n",
    "print(v_1.angle(v_2))"
   ]
  },
  {
   "cell_type": "code",
   "execution_count": 42,
   "metadata": {},
   "outputs": [
    {
     "name": "stdout",
     "output_type": "stream",
     "text": [
      "60.27581120523091\n"
     ]
    }
   ],
   "source": [
    "v_1 = Vector([7.35,0.221,5.188])\n",
    "v_2 = Vector([2.751,8.259,3.985])\n",
    "print(v_1.angle_degree(v_2))"
   ]
  },
  {
   "cell_type": "code",
   "execution_count": 50,
   "metadata": {},
   "outputs": [
    {
     "name": "stdout",
     "output_type": "stream",
     "text": [
      "True\n",
      "-358.60692299999994\n"
     ]
    }
   ],
   "source": [
    "v_1 = Vector([-7.579, -7.88])\n",
    "v_2 = Vector([22.737, 23.64])\n",
    "print(v_1.is_parallel_to(v_2))\n",
    "print(v_1.dot(v_2))"
   ]
  },
  {
   "cell_type": "code",
   "execution_count": 54,
   "metadata": {},
   "outputs": [
    {
     "name": "stdout",
     "output_type": "stream",
     "text": [
      "Vector:[1.0826069624844668, 2.671742758325302]\n"
     ]
    }
   ],
   "source": [
    "v = Vector([3.039, 1.879])\n",
    "w = Vector([0.825, 2.036])\n",
    "print(v.parallel_to(w))"
   ]
  },
  {
   "cell_type": "code",
   "execution_count": 53,
   "metadata": {},
   "outputs": [
    {
     "name": "stdout",
     "output_type": "stream",
     "text": [
      "Vector:[-8.350081043195763, 3.376061254287722, -1.4337460427811841]\n"
     ]
    }
   ],
   "source": [
    "v = Vector([-9.88, -3.264, -8.159])\n",
    "w = Vector([-2.155, -9.353, -9.473])\n",
    "print(v.orthogonal_to(w))"
   ]
  },
  {
   "cell_type": "code",
   "execution_count": 56,
   "metadata": {},
   "outputs": [
    {
     "name": "stdout",
     "output_type": "stream",
     "text": [
      "Vector:[1.9685161672140898, -2.8107607484393564, 0.8480849633578503, 2.679813233256158]\n",
      "Vector:[1.04048383278591, -3.3612392515606433, 2.8439150366421497, -5.189813233256158]\n"
     ]
    }
   ],
   "source": [
    "v = Vector([3.009, -6.172, 3.692, -2.51 ])\n",
    "b = Vector([6.404, -9.144, 2.759, 8.718])\n",
    "print(v.parallel_to(b))\n",
    "print(v.orthogonal_to(b))"
   ]
  },
  {
   "cell_type": "code",
   "execution_count": null,
   "metadata": {
    "collapsed": true
   },
   "outputs": [],
   "source": []
  }
 ],
 "metadata": {
  "kernelspec": {
   "display_name": "Python 3",
   "language": "python",
   "name": "python3"
  },
  "language_info": {
   "codemirror_mode": {
    "name": "ipython",
    "version": 3
   },
   "file_extension": ".py",
   "mimetype": "text/x-python",
   "name": "python",
   "nbconvert_exporter": "python",
   "pygments_lexer": "ipython3",
   "version": "3.6.4"
  }
 },
 "nbformat": 4,
 "nbformat_minor": 2
}
